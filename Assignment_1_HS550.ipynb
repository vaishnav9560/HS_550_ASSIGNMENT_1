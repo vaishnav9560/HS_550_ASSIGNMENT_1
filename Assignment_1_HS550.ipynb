{
 "cells": [
  {
   "cell_type": "code",
   "execution_count": 1,
   "id": "0b46f412",
   "metadata": {},
   "outputs": [],
   "source": [
    "import numpy as np\n",
    "import pandas as pd\n",
    "import seaborn as sns\n",
    "import matplotlib.pyplot as plt"
   ]
  },
  {
   "cell_type": "code",
   "execution_count": 2,
   "id": "5e9a3d4c",
   "metadata": {},
   "outputs": [],
   "source": [
    "df=pd.read_csv(r\"D:\\jupyter\\Assignment data -2023.csv\")"
   ]
  },
  {
   "cell_type": "code",
   "execution_count": 3,
   "id": "77655994",
   "metadata": {},
   "outputs": [
    {
     "data": {
      "text/html": [
       "<div>\n",
       "<style scoped>\n",
       "    .dataframe tbody tr th:only-of-type {\n",
       "        vertical-align: middle;\n",
       "    }\n",
       "\n",
       "    .dataframe tbody tr th {\n",
       "        vertical-align: top;\n",
       "    }\n",
       "\n",
       "    .dataframe thead th {\n",
       "        text-align: right;\n",
       "    }\n",
       "</style>\n",
       "<table border=\"1\" class=\"dataframe\">\n",
       "  <thead>\n",
       "    <tr style=\"text-align: right;\">\n",
       "      <th></th>\n",
       "      <th>Districts</th>\n",
       "      <th>STATES</th>\n",
       "      <th>Forest cover</th>\n",
       "      <th>Yield variability</th>\n",
       "      <th>Female literacy rate</th>\n",
       "      <th>Slope &gt;30 degree</th>\n",
       "      <th>Population Density</th>\n",
       "      <th>% BPL Households</th>\n",
       "      <th>Infant Mortality Rate</th>\n",
       "      <th>MGNREGA</th>\n",
       "    </tr>\n",
       "  </thead>\n",
       "  <tbody>\n",
       "    <tr>\n",
       "      <th>0</th>\n",
       "      <td>Anjaw</td>\n",
       "      <td>Arunachal Pradesh</td>\n",
       "      <td>66.66</td>\n",
       "      <td>0.14</td>\n",
       "      <td>43.17</td>\n",
       "      <td>89.18</td>\n",
       "      <td>3.0</td>\n",
       "      <td>63.00</td>\n",
       "      <td>102.0</td>\n",
       "      <td>27.38</td>\n",
       "    </tr>\n",
       "    <tr>\n",
       "      <th>1</th>\n",
       "      <td>KULGAM</td>\n",
       "      <td>J&amp;K</td>\n",
       "      <td>35.17</td>\n",
       "      <td>0.64</td>\n",
       "      <td>51.51</td>\n",
       "      <td>0.13</td>\n",
       "      <td>1035.0</td>\n",
       "      <td>25.37</td>\n",
       "      <td>23.0</td>\n",
       "      <td>34.00</td>\n",
       "    </tr>\n",
       "    <tr>\n",
       "      <th>2</th>\n",
       "      <td>Kurung Kumey</td>\n",
       "      <td>Arunachal Pradesh</td>\n",
       "      <td>87.79</td>\n",
       "      <td>0.12</td>\n",
       "      <td>42.64</td>\n",
       "      <td>84.39</td>\n",
       "      <td>15.0</td>\n",
       "      <td>71.00</td>\n",
       "      <td>108.0</td>\n",
       "      <td>17.51</td>\n",
       "    </tr>\n",
       "    <tr>\n",
       "      <th>3</th>\n",
       "      <td>Upper Subansiri</td>\n",
       "      <td>Arunachal Pradesh</td>\n",
       "      <td>79.22</td>\n",
       "      <td>0.21</td>\n",
       "      <td>57.59</td>\n",
       "      <td>83.50</td>\n",
       "      <td>12.0</td>\n",
       "      <td>65.00</td>\n",
       "      <td>90.0</td>\n",
       "      <td>29.15</td>\n",
       "    </tr>\n",
       "    <tr>\n",
       "      <th>4</th>\n",
       "      <td>Tawang</td>\n",
       "      <td>Arunachal Pradesh</td>\n",
       "      <td>54.19</td>\n",
       "      <td>0.06</td>\n",
       "      <td>46.23</td>\n",
       "      <td>80.63</td>\n",
       "      <td>23.0</td>\n",
       "      <td>64.00</td>\n",
       "      <td>67.0</td>\n",
       "      <td>29.30</td>\n",
       "    </tr>\n",
       "  </tbody>\n",
       "</table>\n",
       "</div>"
      ],
      "text/plain": [
       "         Districts             STATES  Forest cover   Yield variability   \\\n",
       "0            Anjaw  Arunachal Pradesh          66.66                0.14   \n",
       "1           KULGAM                J&K          35.17                0.64   \n",
       "2     Kurung Kumey  Arunachal Pradesh          87.79                0.12   \n",
       "3  Upper Subansiri  Arunachal Pradesh          79.22                0.21   \n",
       "4           Tawang  Arunachal Pradesh          54.19                0.06   \n",
       "\n",
       "    Female literacy rate   Slope >30 degree   Population Density   \\\n",
       "0                  43.17              89.18                   3.0   \n",
       "1                  51.51               0.13                1035.0   \n",
       "2                  42.64              84.39                  15.0   \n",
       "3                  57.59              83.50                  12.0   \n",
       "4                  46.23              80.63                  23.0   \n",
       "\n",
       "   % BPL Households   Infant Mortality Rate   MGNREGA  \n",
       "0              63.00                  102.0     27.38  \n",
       "1              25.37                   23.0     34.00  \n",
       "2              71.00                  108.0     17.51  \n",
       "3              65.00                   90.0     29.15  \n",
       "4              64.00                   67.0     29.30  "
      ]
     },
     "execution_count": 3,
     "metadata": {},
     "output_type": "execute_result"
    }
   ],
   "source": [
    "df.head(5)"
   ]
  },
  {
   "cell_type": "markdown",
   "id": "250bd390",
   "metadata": {},
   "source": [
    "# QUESTION_1"
   ]
  },
  {
   "cell_type": "code",
   "execution_count": 4,
   "id": "62cc5bce",
   "metadata": {},
   "outputs": [],
   "source": [
    "#Histogram between 2 variables"
   ]
  },
  {
   "cell_type": "code",
   "execution_count": 5,
   "id": "6d7398c8",
   "metadata": {},
   "outputs": [
    {
     "data": {
      "image/png": "[encoded data removed]",
      "text/plain": [
       "<Figure size 432x288 with 1 Axes>"
      ]
     },
     "metadata": {
      "needs_background": "light"
     },
     "output_type": "display_data"
    }
   ],
   "source": [
    "plt.hist(df[' MGNREGA'],bins=11,alpha=0.5)\n",
    "plt.hist(df[' Female literacy rate'],bins=11,alpha=0.5)\n",
    "plt.legend(['MGNREGA','female litreacy rate'])\n",
    "plt.show()"
   ]
  },
  {
   "cell_type": "code",
   "execution_count": 6,
   "id": "adb43126",
   "metadata": {},
   "outputs": [
    {
     "data": {
      "image/png": "[encoded data removed]",
      "text/plain": [
       "<Figure size 432x288 with 1 Axes>"
      ]
     },
     "metadata": {
      "needs_background": "light"
     },
     "output_type": "display_data"
    }
   ],
   "source": [
    "plt.hist(df['% BPL Households '],bins=11,alpha=0.5)\n",
    "plt.hist(df['Infant Mortality Rate'],bins=11,alpha=0.5)\n",
    "plt.legend(['BPL HOUSEHOLD','INFANT MORTALITY rate'])\n",
    "plt.show()"
   ]
  },
  {
   "cell_type": "code",
   "execution_count": null,
   "id": "dc9e0a4c",
   "metadata": {},
   "outputs": [],
   "source": []
  },
  {
   "cell_type": "code",
   "execution_count": 51,
   "id": "7cedcddb",
   "metadata": {},
   "outputs": [
    {
     "data": {
      "text/plain": [
       "<AxesSubplot:xlabel=' Female literacy rate', ylabel=' MGNREGA'>"
      ]
     },
     "execution_count": 51,
     "metadata": {},
     "output_type": "execute_result"
    },
    {
     "data": {
      "image/png": "[encoded data removed]",
      "text/plain": [
       "<Figure size 432x288 with 1 Axes>"
      ]
     },
     "metadata": {
      "needs_background": "light"
     },
     "output_type": "display_data"
    }
   ],
   "source": [
    "sns.scatterplot(x=' Female literacy rate',y=' MGNREGA',data=df)"
   ]
  },
  {
   "cell_type": "code",
   "execution_count": 52,
   "id": "3925267f",
   "metadata": {},
   "outputs": [
    {
     "data": {
      "text/plain": [
       "<AxesSubplot:xlabel='% BPL Households ', ylabel='Infant Mortality Rate'>"
      ]
     },
     "execution_count": 52,
     "metadata": {},
     "output_type": "execute_result"
    },
    {
     "data": {
      "image/png": "[encoded data removed]",
      "text/plain": [
       "<Figure size 432x288 with 1 Axes>"
      ]
     },
     "metadata": {
      "needs_background": "light"
     },
     "output_type": "display_data"
    }
   ],
   "source": [
    "sns.scatterplot(x=\"% BPL Households \",y=\"Infant Mortality Rate\",data=df)"
   ]
  },
  {
   "cell_type": "code",
   "execution_count": 8,
   "id": "e7c0e20b",
   "metadata": {},
   "outputs": [],
   "source": [
    "#conclusion-Where BPL HOUSEHOLD PERCENTAGE are less than 40% there less infant mortality rate can be seen otherwise as bpl household percentage increasing the infant mortality rate is very high."
   ]
  },
  {
   "cell_type": "markdown",
   "id": "e834290c",
   "metadata": {},
   "source": [
    "# (NOTE-FREQUENCY TABLE OF Q-1 HAS BEEN DONE BELOW)"
   ]
  },
  {
   "cell_type": "markdown",
   "id": "021a27d6",
   "metadata": {},
   "source": [
    "# Q_2"
   ]
  },
  {
   "cell_type": "code",
   "execution_count": 9,
   "id": "9387ce51",
   "metadata": {},
   "outputs": [
    {
     "data": {
      "text/html": [
       "<div>\n",
       "<style scoped>\n",
       "    .dataframe tbody tr th:only-of-type {\n",
       "        vertical-align: middle;\n",
       "    }\n",
       "\n",
       "    .dataframe tbody tr th {\n",
       "        vertical-align: top;\n",
       "    }\n",
       "\n",
       "    .dataframe thead th {\n",
       "        text-align: right;\n",
       "    }\n",
       "</style>\n",
       "<table border=\"1\" class=\"dataframe\">\n",
       "  <thead>\n",
       "    <tr style=\"text-align: right;\">\n",
       "      <th></th>\n",
       "      <th>Forest cover</th>\n",
       "      <th>Yield variability</th>\n",
       "      <th>Female literacy rate</th>\n",
       "      <th>Slope &gt;30 degree</th>\n",
       "      <th>Population Density</th>\n",
       "      <th>% BPL Households</th>\n",
       "      <th>Infant Mortality Rate</th>\n",
       "      <th>MGNREGA</th>\n",
       "    </tr>\n",
       "  </thead>\n",
       "  <tbody>\n",
       "    <tr>\n",
       "      <th>count</th>\n",
       "      <td>136.000000</td>\n",
       "      <td>136.000000</td>\n",
       "      <td>136.000000</td>\n",
       "      <td>136.000000</td>\n",
       "      <td>136.000000</td>\n",
       "      <td>136.000000</td>\n",
       "      <td>136.000000</td>\n",
       "      <td>136.000000</td>\n",
       "    </tr>\n",
       "    <tr>\n",
       "      <th>mean</th>\n",
       "      <td>51.283088</td>\n",
       "      <td>0.184779</td>\n",
       "      <td>63.813897</td>\n",
       "      <td>23.478897</td>\n",
       "      <td>281.750147</td>\n",
       "      <td>30.686618</td>\n",
       "      <td>40.627353</td>\n",
       "      <td>41.629191</td>\n",
       "    </tr>\n",
       "    <tr>\n",
       "      <th>std</th>\n",
       "      <td>26.997620</td>\n",
       "      <td>0.134495</td>\n",
       "      <td>12.618247</td>\n",
       "      <td>28.962657</td>\n",
       "      <td>285.099185</td>\n",
       "      <td>20.462242</td>\n",
       "      <td>24.866035</td>\n",
       "      <td>21.559616</td>\n",
       "    </tr>\n",
       "    <tr>\n",
       "      <th>min</th>\n",
       "      <td>0.210000</td>\n",
       "      <td>0.000000</td>\n",
       "      <td>22.870000</td>\n",
       "      <td>0.000000</td>\n",
       "      <td>1.000000</td>\n",
       "      <td>0.850000</td>\n",
       "      <td>1.180000</td>\n",
       "      <td>8.360000</td>\n",
       "    </tr>\n",
       "    <tr>\n",
       "      <th>25%</th>\n",
       "      <td>28.900000</td>\n",
       "      <td>0.090000</td>\n",
       "      <td>57.062500</td>\n",
       "      <td>0.285000</td>\n",
       "      <td>56.250000</td>\n",
       "      <td>12.252500</td>\n",
       "      <td>19.855000</td>\n",
       "      <td>25.187500</td>\n",
       "    </tr>\n",
       "    <tr>\n",
       "      <th>50%</th>\n",
       "      <td>53.460000</td>\n",
       "      <td>0.140000</td>\n",
       "      <td>64.445000</td>\n",
       "      <td>7.070000</td>\n",
       "      <td>185.280000</td>\n",
       "      <td>26.980000</td>\n",
       "      <td>42.000000</td>\n",
       "      <td>36.045000</td>\n",
       "    </tr>\n",
       "    <tr>\n",
       "      <th>75%</th>\n",
       "      <td>76.507500</td>\n",
       "      <td>0.222500</td>\n",
       "      <td>72.297500</td>\n",
       "      <td>46.140000</td>\n",
       "      <td>410.000000</td>\n",
       "      <td>42.625000</td>\n",
       "      <td>58.000000</td>\n",
       "      <td>58.155000</td>\n",
       "    </tr>\n",
       "    <tr>\n",
       "      <th>max</th>\n",
       "      <td>92.170000</td>\n",
       "      <td>0.640000</td>\n",
       "      <td>89.700000</td>\n",
       "      <td>90.450000</td>\n",
       "      <td>1313.000000</td>\n",
       "      <td>71.000000</td>\n",
       "      <td>111.000000</td>\n",
       "      <td>98.560000</td>\n",
       "    </tr>\n",
       "  </tbody>\n",
       "</table>\n",
       "</div>"
      ],
      "text/plain": [
       "       Forest cover   Yield variability    Female literacy rate  \\\n",
       "count     136.000000          136.000000             136.000000   \n",
       "mean       51.283088            0.184779              63.813897   \n",
       "std        26.997620            0.134495              12.618247   \n",
       "min         0.210000            0.000000              22.870000   \n",
       "25%        28.900000            0.090000              57.062500   \n",
       "50%        53.460000            0.140000              64.445000   \n",
       "75%        76.507500            0.222500              72.297500   \n",
       "max        92.170000            0.640000              89.700000   \n",
       "\n",
       "        Slope >30 degree   Population Density   % BPL Households   \\\n",
       "count         136.000000            136.000000         136.000000   \n",
       "mean           23.478897            281.750147          30.686618   \n",
       "std            28.962657            285.099185          20.462242   \n",
       "min             0.000000              1.000000           0.850000   \n",
       "25%             0.285000             56.250000          12.252500   \n",
       "50%             7.070000            185.280000          26.980000   \n",
       "75%            46.140000            410.000000          42.625000   \n",
       "max            90.450000           1313.000000          71.000000   \n",
       "\n",
       "       Infant Mortality Rate     MGNREGA  \n",
       "count             136.000000  136.000000  \n",
       "mean               40.627353   41.629191  \n",
       "std                24.866035   21.559616  \n",
       "min                 1.180000    8.360000  \n",
       "25%                19.855000   25.187500  \n",
       "50%                42.000000   36.045000  \n",
       "75%                58.000000   58.155000  \n",
       "max               111.000000   98.560000  "
      ]
     },
     "execution_count": 9,
     "metadata": {},
     "output_type": "execute_result"
    }
   ],
   "source": [
    "df.describe()"
   ]
  },
  {
   "cell_type": "code",
   "execution_count": 10,
   "id": "e36fd08a",
   "metadata": {},
   "outputs": [],
   "source": [
    "# From above table we have got mean standard deviation now we are going to find median and mode"
   ]
  },
  {
   "cell_type": "code",
   "execution_count": 11,
   "id": "a2cfa4c6",
   "metadata": {},
   "outputs": [
    {
     "name": "stdout",
     "output_type": "stream",
     "text": [
      "53.459999999999994 -Median of Forest cover\n",
      "0.14 -Median of YIELD VARAIBILITY\n",
      "64.445 -MEDIAN OF LITERACY RATE\n",
      "7.07 -MEDIAN OF SLOPE>30\n",
      "185.28 -MEDIAN OF POPULATION DENSITY\n",
      "26.98 -MEDIAN OF % BPL HOUSEHOLD\n",
      "36.045 -MEDIAN OF MGNREGA\n"
     ]
    }
   ],
   "source": [
    "#median\n",
    "print(df['Forest cover '].median(),'-Median of Forest cover')\n",
    "print(df['Yield variability '].median(),'-Median of YIELD VARAIBILITY')\n",
    "print(df[' Female literacy rate'].median(),'-MEDIAN OF LITERACY RATE')\n",
    "print(df[' Slope >30 degree'].median(),'-MEDIAN OF SLOPE>30')\n",
    "print(df[' Population Density '].median(),'-MEDIAN OF POPULATION DENSITY')\n",
    "print(df['% BPL Households '].median(),'-MEDIAN OF % BPL HOUSEHOLD')\n",
    "print(df[' MGNREGA'].median(),'-MEDIAN OF MGNREGA')"
   ]
  },
  {
   "cell_type": "code",
   "execution_count": 12,
   "id": "5cb62161",
   "metadata": {},
   "outputs": [
    {
     "name": "stdout",
     "output_type": "stream",
     "text": [
      "0    32.48\n",
      "Name: Forest cover , dtype: float64 -Mode of Forest cover\n",
      "0    0.14\n",
      "Name: Yield variability , dtype: float64 -Mode of YIELD VARAIBILITY\n",
      "0      22.87\n",
      "1      26.36\n",
      "2      36.28\n",
      "3      36.44\n",
      "4      38.15\n",
      "       ...  \n",
      "131    83.81\n",
      "132    84.39\n",
      "133    85.07\n",
      "134    88.01\n",
      "135    89.70\n",
      "Name:  Female literacy rate, Length: 136, dtype: float64 -Mode OF LITERACY RATE\n",
      "0    0.01\n",
      "Name:  Slope >30 degree, dtype: float64 -Mode OF SLOPE>30\n",
      "0      3.0\n",
      "1     28.0\n",
      "2     32.0\n",
      "3     44.0\n",
      "4    140.0\n",
      "5    183.0\n",
      "Name:  Population Density , dtype: float64 -Mode OF POPULATION DENSITY\n",
      "0    65.0\n",
      "1    66.0\n",
      "Name: % BPL Households , dtype: float64 -Mode OF % BPL HOUSEHOLD\n",
      "0    32.00\n",
      "1    34.00\n",
      "2    36.00\n",
      "3    37.00\n",
      "4    42.00\n",
      "5    46.00\n",
      "6    49.00\n",
      "7    93.54\n",
      "Name:  MGNREGA, dtype: float64 -Mode OF MGNREGA\n"
     ]
    }
   ],
   "source": [
    "#mode\n",
    "print(df['Forest cover '].mode(),'-Mode of Forest cover')\n",
    "print(df['Yield variability '].mode(),'-Mode of YIELD VARAIBILITY')\n",
    "print(df[' Female literacy rate'].mode(),'-Mode OF LITERACY RATE')\n",
    "print(df[' Slope >30 degree'].mode(),'-Mode OF SLOPE>30')\n",
    "print(df[' Population Density '].mode(),'-Mode OF POPULATION DENSITY')\n",
    "print(df['% BPL Households '].mode(),'-Mode OF % BPL HOUSEHOLD')\n",
    "print(df[' MGNREGA'].mode(),'-Mode OF MGNREGA')"
   ]
  },
  {
   "cell_type": "markdown",
   "id": "9a14eebc",
   "metadata": {},
   "source": [
    "# FINDING OUTLIERS"
   ]
  },
  {
   "cell_type": "code",
   "execution_count": 13,
   "id": "d21d5cad",
   "metadata": {},
   "outputs": [],
   "source": [
    "def find_outliers_IQR(df):\n",
    "\n",
    "   q1=df.quantile(0.25)\n",
    "\n",
    "   q3=df.quantile(0.75)\n",
    "\n",
    "   IQR=q3-q1\n",
    "\n",
    "   outliers = df[((df<(q1-1.5*IQR)) | (df>(q3+1.5*IQR)))]\n",
    "\n",
    "   return outliers\n",
    "\n"
   ]
  },
  {
   "cell_type": "code",
   "execution_count": 14,
   "id": "fedc96bc",
   "metadata": {},
   "outputs": [],
   "source": [
    "#FROM GRAPH AND FUNCTION AS WELL"
   ]
  },
  {
   "cell_type": "code",
   "execution_count": 15,
   "id": "8eedb1e6",
   "metadata": {},
   "outputs": [
    {
     "name": "stderr",
     "output_type": "stream",
     "text": [
      "C:\\ProgramData\\Anaconda3\\lib\\site-packages\\seaborn\\_decorators.py:36: FutureWarning: Pass the following variable as a keyword arg: x. From version 0.12, the only valid positional argument will be `data`, and passing other arguments without an explicit keyword will result in an error or misinterpretation.\n",
      "  warnings.warn(\n"
     ]
    },
    {
     "data": {
      "text/plain": [
       "<AxesSubplot:xlabel='Forest cover '>"
      ]
     },
     "execution_count": 15,
     "metadata": {},
     "output_type": "execute_result"
    },
    {
     "data": {
      "image/png": "[encoded data removed]",
      "text/plain": [
       "<Figure size 432x288 with 1 Axes>"
      ]
     },
     "metadata": {
      "needs_background": "light"
     },
     "output_type": "display_data"
    }
   ],
   "source": [
    "sns.boxplot(df['Forest cover '])"
   ]
  },
  {
   "cell_type": "code",
   "execution_count": 16,
   "id": "28b933a4",
   "metadata": {},
   "outputs": [
    {
     "name": "stdout",
     "output_type": "stream",
     "text": [
      "Series([], Name: Forest cover , dtype: float64)\n"
     ]
    }
   ],
   "source": [
    "outliers=find_outliers_IQR(df['Forest cover '])\n",
    "print(outliers)"
   ]
  },
  {
   "cell_type": "code",
   "execution_count": 17,
   "id": "da9e2d66",
   "metadata": {},
   "outputs": [],
   "source": [
    "#  NOTE-Conclusion:No outlier since no point outside the boxplot."
   ]
  },
  {
   "cell_type": "code",
   "execution_count": null,
   "id": "0b336cbd",
   "metadata": {},
   "outputs": [],
   "source": []
  },
  {
   "cell_type": "code",
   "execution_count": 18,
   "id": "0bac313b",
   "metadata": {},
   "outputs": [],
   "source": [
    "#2nd variable"
   ]
  },
  {
   "cell_type": "code",
   "execution_count": 19,
   "id": "57605748",
   "metadata": {},
   "outputs": [
    {
     "name": "stderr",
     "output_type": "stream",
     "text": [
      "C:\\ProgramData\\Anaconda3\\lib\\site-packages\\seaborn\\_decorators.py:36: FutureWarning: Pass the following variable as a keyword arg: x. From version 0.12, the only valid positional argument will be `data`, and passing other arguments without an explicit keyword will result in an error or misinterpretation.\n",
      "  warnings.warn(\n"
     ]
    },
    {
     "data": {
      "text/plain": [
       "<AxesSubplot:xlabel='Yield variability '>"
      ]
     },
     "execution_count": 19,
     "metadata": {},
     "output_type": "execute_result"
    },
    {
     "data": {
      "image/png": "[encoded data removed]",
      "text/plain": [
       "<Figure size 432x288 with 1 Axes>"
      ]
     },
     "metadata": {
      "needs_background": "light"
     },
     "output_type": "display_data"
    }
   ],
   "source": [
    "sns.boxplot(df['Yield variability '])"
   ]
  },
  {
   "cell_type": "code",
   "execution_count": 20,
   "id": "e507766b",
   "metadata": {},
   "outputs": [
    {
     "name": "stdout",
     "output_type": "stream",
     "text": [
      "1     0.64\n",
      "6     0.47\n",
      "7     0.53\n",
      "22    0.59\n",
      "32    0.53\n",
      "36    0.43\n",
      "40    0.60\n",
      "57    0.50\n",
      "81    0.43\n",
      "Name: Yield variability , dtype: float64\n"
     ]
    }
   ],
   "source": [
    "outliers=find_outliers_IQR(df['Yield variability '])\n",
    "print(outliers)"
   ]
  },
  {
   "cell_type": "code",
   "execution_count": 21,
   "id": "8b6f603e",
   "metadata": {},
   "outputs": [],
   "source": [
    "# Note-Total 9 outliers.Since 9 points are outside the box."
   ]
  },
  {
   "cell_type": "code",
   "execution_count": 22,
   "id": "59fdfc25",
   "metadata": {},
   "outputs": [],
   "source": [
    "#3rd varibale"
   ]
  },
  {
   "cell_type": "code",
   "execution_count": 23,
   "id": "483abd92",
   "metadata": {},
   "outputs": [
    {
     "name": "stderr",
     "output_type": "stream",
     "text": [
      "C:\\ProgramData\\Anaconda3\\lib\\site-packages\\seaborn\\_decorators.py:36: FutureWarning: Pass the following variable as a keyword arg: x. From version 0.12, the only valid positional argument will be `data`, and passing other arguments without an explicit keyword will result in an error or misinterpretation.\n",
      "  warnings.warn(\n"
     ]
    },
    {
     "data": {
      "text/plain": [
       "<AxesSubplot:xlabel=' Female literacy rate'>"
      ]
     },
     "execution_count": 23,
     "metadata": {},
     "output_type": "execute_result"
    },
    {
     "data": {
      "image/png": "[encoded data removed]",
      "text/plain": [
       "<Figure size 432x288 with 1 Axes>"
      ]
     },
     "metadata": {
      "needs_background": "light"
     },
     "output_type": "display_data"
    }
   ],
   "source": [
    "sns.boxplot(df[' Female literacy rate'])"
   ]
  },
  {
   "cell_type": "code",
   "execution_count": 24,
   "id": "13cb4e3c",
   "metadata": {},
   "outputs": [
    {
     "name": "stdout",
     "output_type": "stream",
     "text": [
      "41    26.36\n",
      "64    22.87\n",
      "Name:  Female literacy rate, dtype: float64\n"
     ]
    }
   ],
   "source": [
    "outliers=find_outliers_IQR(df[' Female literacy rate'])\n",
    "print(outliers)"
   ]
  },
  {
   "cell_type": "code",
   "execution_count": 25,
   "id": "dd2ba1a1",
   "metadata": {},
   "outputs": [],
   "source": [
    "# Conclusion- 2 outliers."
   ]
  },
  {
   "cell_type": "code",
   "execution_count": 26,
   "id": "233453cd",
   "metadata": {},
   "outputs": [],
   "source": [
    "#4th varibale"
   ]
  },
  {
   "cell_type": "code",
   "execution_count": 27,
   "id": "5b559062",
   "metadata": {},
   "outputs": [
    {
     "name": "stderr",
     "output_type": "stream",
     "text": [
      "C:\\ProgramData\\Anaconda3\\lib\\site-packages\\seaborn\\_decorators.py:36: FutureWarning: Pass the following variable as a keyword arg: x. From version 0.12, the only valid positional argument will be `data`, and passing other arguments without an explicit keyword will result in an error or misinterpretation.\n",
      "  warnings.warn(\n"
     ]
    },
    {
     "data": {
      "text/plain": [
       "<AxesSubplot:xlabel=' Slope >30 degree'>"
      ]
     },
     "execution_count": 27,
     "metadata": {},
     "output_type": "execute_result"
    },
    {
     "data": {
      "image/png": "[encoded data removed]",
      "text/plain": [
       "<Figure size 432x288 with 1 Axes>"
      ]
     },
     "metadata": {
      "needs_background": "light"
     },
     "output_type": "display_data"
    }
   ],
   "source": [
    "sns.boxplot(df[' Slope >30 degree'])"
   ]
  },
  {
   "cell_type": "code",
   "execution_count": 28,
   "id": "ffa23b15",
   "metadata": {},
   "outputs": [
    {
     "name": "stdout",
     "output_type": "stream",
     "text": [
      "Series([], Name:  Slope >30 degree, dtype: float64)\n"
     ]
    }
   ],
   "source": [
    "outliers=find_outliers_IQR(df[' Slope >30 degree'])\n",
    "print(outliers)"
   ]
  },
  {
   "cell_type": "code",
   "execution_count": 29,
   "id": "66d97511",
   "metadata": {},
   "outputs": [],
   "source": [
    "# No outlier"
   ]
  },
  {
   "cell_type": "markdown",
   "id": "2c07f5b8",
   "metadata": {},
   "source": [
    "#5th varibale"
   ]
  },
  {
   "cell_type": "code",
   "execution_count": 30,
   "id": "a8447f34",
   "metadata": {},
   "outputs": [
    {
     "name": "stderr",
     "output_type": "stream",
     "text": [
      "C:\\ProgramData\\Anaconda3\\lib\\site-packages\\seaborn\\_decorators.py:36: FutureWarning: Pass the following variable as a keyword arg: x. From version 0.12, the only valid positional argument will be `data`, and passing other arguments without an explicit keyword will result in an error or misinterpretation.\n",
      "  warnings.warn(\n"
     ]
    },
    {
     "data": {
      "text/plain": [
       "<AxesSubplot:xlabel=' Population Density '>"
      ]
     },
     "execution_count": 30,
     "metadata": {},
     "output_type": "execute_result"
    },
    {
     "data": {
      "image/png": "[encoded data removed]",
      "text/plain": [
       "<Figure size 432x288 with 1 Axes>"
      ]
     },
     "metadata": {
      "needs_background": "light"
     },
     "output_type": "display_data"
    }
   ],
   "source": [
    "sns.boxplot(df[' Population Density '])"
   ]
  },
  {
   "cell_type": "code",
   "execution_count": 31,
   "id": "a90b0fbc",
   "metadata": {},
   "outputs": [
    {
     "name": "stdout",
     "output_type": "stream",
     "text": [
      "1     1035.0\n",
      "6     1137.0\n",
      "7     1148.0\n",
      "61    1313.0\n",
      "63     998.0\n",
      "73     974.0\n",
      "Name:  Population Density , dtype: float64\n"
     ]
    }
   ],
   "source": [
    "outliers=find_outliers_IQR(df[' Population Density '])\n",
    "print(outliers)"
   ]
  },
  {
   "cell_type": "code",
   "execution_count": 32,
   "id": "9fc2cdb1",
   "metadata": {},
   "outputs": [],
   "source": [
    "# Conlusion=6 outlliers"
   ]
  },
  {
   "cell_type": "code",
   "execution_count": 33,
   "id": "224c45a0",
   "metadata": {},
   "outputs": [],
   "source": [
    "#6th variable"
   ]
  },
  {
   "cell_type": "code",
   "execution_count": 34,
   "id": "be4e0731",
   "metadata": {},
   "outputs": [
    {
     "name": "stderr",
     "output_type": "stream",
     "text": [
      "C:\\ProgramData\\Anaconda3\\lib\\site-packages\\seaborn\\_decorators.py:36: FutureWarning: Pass the following variable as a keyword arg: x. From version 0.12, the only valid positional argument will be `data`, and passing other arguments without an explicit keyword will result in an error or misinterpretation.\n",
      "  warnings.warn(\n"
     ]
    },
    {
     "data": {
      "text/plain": [
       "<AxesSubplot:xlabel='% BPL Households '>"
      ]
     },
     "execution_count": 34,
     "metadata": {},
     "output_type": "execute_result"
    },
    {
     "data": {
      "image/png": "[encoded data removed]",
      "text/plain": [
       "<Figure size 432x288 with 1 Axes>"
      ]
     },
     "metadata": {
      "needs_background": "light"
     },
     "output_type": "display_data"
    }
   ],
   "source": [
    "sns.boxplot(df['% BPL Households '])"
   ]
  },
  {
   "cell_type": "code",
   "execution_count": 35,
   "id": "86be9901",
   "metadata": {},
   "outputs": [],
   "source": [
    "#No outlier"
   ]
  },
  {
   "cell_type": "code",
   "execution_count": 36,
   "id": "865c82a6",
   "metadata": {},
   "outputs": [],
   "source": [
    "# 6th variable"
   ]
  },
  {
   "cell_type": "code",
   "execution_count": 37,
   "id": "ff963f24",
   "metadata": {},
   "outputs": [
    {
     "name": "stderr",
     "output_type": "stream",
     "text": [
      "C:\\ProgramData\\Anaconda3\\lib\\site-packages\\seaborn\\_decorators.py:36: FutureWarning: Pass the following variable as a keyword arg: x. From version 0.12, the only valid positional argument will be `data`, and passing other arguments without an explicit keyword will result in an error or misinterpretation.\n",
      "  warnings.warn(\n"
     ]
    },
    {
     "data": {
      "text/plain": [
       "<AxesSubplot:xlabel=' MGNREGA'>"
      ]
     },
     "execution_count": 37,
     "metadata": {},
     "output_type": "execute_result"
    },
    {
     "data": {
      "image/png": "[encoded data removed]",
      "text/plain": [
       "<Figure size 432x288 with 1 Axes>"
      ]
     },
     "metadata": {
      "needs_background": "light"
     },
     "output_type": "display_data"
    }
   ],
   "source": [
    "sns.boxplot(df[' MGNREGA'])"
   ]
  },
  {
   "cell_type": "code",
   "execution_count": 38,
   "id": "d32b561e",
   "metadata": {},
   "outputs": [],
   "source": [
    "# No outlier"
   ]
  },
  {
   "cell_type": "code",
   "execution_count": 39,
   "id": "02436651",
   "metadata": {},
   "outputs": [],
   "source": [
    "# 7th variable"
   ]
  },
  {
   "cell_type": "code",
   "execution_count": 40,
   "id": "ca10de0d",
   "metadata": {},
   "outputs": [
    {
     "name": "stderr",
     "output_type": "stream",
     "text": [
      "C:\\ProgramData\\Anaconda3\\lib\\site-packages\\seaborn\\_decorators.py:36: FutureWarning: Pass the following variable as a keyword arg: x. From version 0.12, the only valid positional argument will be `data`, and passing other arguments without an explicit keyword will result in an error or misinterpretation.\n",
      "  warnings.warn(\n"
     ]
    },
    {
     "data": {
      "text/plain": [
       "<AxesSubplot:xlabel='Infant Mortality Rate'>"
      ]
     },
     "execution_count": 40,
     "metadata": {},
     "output_type": "execute_result"
    },
    {
     "data": {
      "image/png": "[encoded data removed]",
      "text/plain": [
       "<Figure size 432x288 with 1 Axes>"
      ]
     },
     "metadata": {
      "needs_background": "light"
     },
     "output_type": "display_data"
    }
   ],
   "source": [
    "sns.boxplot(df['Infant Mortality Rate'])"
   ]
  },
  {
   "cell_type": "code",
   "execution_count": 41,
   "id": "6058317e",
   "metadata": {},
   "outputs": [],
   "source": [
    "# No outlier"
   ]
  },
  {
   "cell_type": "markdown",
   "id": "cb47919d",
   "metadata": {},
   "source": [
    "# Q-3"
   ]
  },
  {
   "cell_type": "code",
   "execution_count": 42,
   "id": "31ff8686",
   "metadata": {},
   "outputs": [
    {
     "data": {
      "text/html": [
       "<div>\n",
       "<style scoped>\n",
       "    .dataframe tbody tr th:only-of-type {\n",
       "        vertical-align: middle;\n",
       "    }\n",
       "\n",
       "    .dataframe tbody tr th {\n",
       "        vertical-align: top;\n",
       "    }\n",
       "\n",
       "    .dataframe thead th {\n",
       "        text-align: right;\n",
       "    }\n",
       "</style>\n",
       "<table border=\"1\" class=\"dataframe\">\n",
       "  <thead>\n",
       "    <tr style=\"text-align: right;\">\n",
       "      <th></th>\n",
       "      <th>Forest cover</th>\n",
       "      <th>Yield variability</th>\n",
       "      <th>Female literacy rate</th>\n",
       "      <th>Slope &gt;30 degree</th>\n",
       "      <th>Population Density</th>\n",
       "      <th>% BPL Households</th>\n",
       "      <th>Infant Mortality Rate</th>\n",
       "      <th>MGNREGA</th>\n",
       "    </tr>\n",
       "  </thead>\n",
       "  <tbody>\n",
       "    <tr>\n",
       "      <th>Forest cover</th>\n",
       "      <td>1.000000</td>\n",
       "      <td>-0.134579</td>\n",
       "      <td>0.147087</td>\n",
       "      <td>0.575850</td>\n",
       "      <td>-0.587809</td>\n",
       "      <td>0.244880</td>\n",
       "      <td>0.033953</td>\n",
       "      <td>0.169711</td>\n",
       "    </tr>\n",
       "    <tr>\n",
       "      <th>Yield variability</th>\n",
       "      <td>-0.134579</td>\n",
       "      <td>1.000000</td>\n",
       "      <td>-0.250522</td>\n",
       "      <td>-0.090560</td>\n",
       "      <td>0.246668</td>\n",
       "      <td>-0.200473</td>\n",
       "      <td>-0.217160</td>\n",
       "      <td>-0.078988</td>\n",
       "    </tr>\n",
       "    <tr>\n",
       "      <th>Female literacy rate</th>\n",
       "      <td>0.147087</td>\n",
       "      <td>-0.250522</td>\n",
       "      <td>1.000000</td>\n",
       "      <td>-0.073014</td>\n",
       "      <td>0.073589</td>\n",
       "      <td>0.032576</td>\n",
       "      <td>0.026215</td>\n",
       "      <td>0.249888</td>\n",
       "    </tr>\n",
       "    <tr>\n",
       "      <th>Slope &gt;30 degree</th>\n",
       "      <td>0.575850</td>\n",
       "      <td>-0.090560</td>\n",
       "      <td>-0.073014</td>\n",
       "      <td>1.000000</td>\n",
       "      <td>-0.565344</td>\n",
       "      <td>0.163148</td>\n",
       "      <td>0.086189</td>\n",
       "      <td>0.039232</td>\n",
       "    </tr>\n",
       "    <tr>\n",
       "      <th>Population Density</th>\n",
       "      <td>-0.587809</td>\n",
       "      <td>0.246668</td>\n",
       "      <td>0.073589</td>\n",
       "      <td>-0.565344</td>\n",
       "      <td>1.000000</td>\n",
       "      <td>-0.133017</td>\n",
       "      <td>-0.027818</td>\n",
       "      <td>-0.200212</td>\n",
       "    </tr>\n",
       "    <tr>\n",
       "      <th>% BPL Households</th>\n",
       "      <td>0.244880</td>\n",
       "      <td>-0.200473</td>\n",
       "      <td>0.032576</td>\n",
       "      <td>0.163148</td>\n",
       "      <td>-0.133017</td>\n",
       "      <td>1.000000</td>\n",
       "      <td>0.422283</td>\n",
       "      <td>-0.048886</td>\n",
       "    </tr>\n",
       "    <tr>\n",
       "      <th>Infant Mortality Rate</th>\n",
       "      <td>0.033953</td>\n",
       "      <td>-0.217160</td>\n",
       "      <td>0.026215</td>\n",
       "      <td>0.086189</td>\n",
       "      <td>-0.027818</td>\n",
       "      <td>0.422283</td>\n",
       "      <td>1.000000</td>\n",
       "      <td>-0.355977</td>\n",
       "    </tr>\n",
       "    <tr>\n",
       "      <th>MGNREGA</th>\n",
       "      <td>0.169711</td>\n",
       "      <td>-0.078988</td>\n",
       "      <td>0.249888</td>\n",
       "      <td>0.039232</td>\n",
       "      <td>-0.200212</td>\n",
       "      <td>-0.048886</td>\n",
       "      <td>-0.355977</td>\n",
       "      <td>1.000000</td>\n",
       "    </tr>\n",
       "  </tbody>\n",
       "</table>\n",
       "</div>"
      ],
      "text/plain": [
       "                       Forest cover   Yield variability   \\\n",
       "Forest cover                1.000000           -0.134579   \n",
       "Yield variability          -0.134579            1.000000   \n",
       " Female literacy rate       0.147087           -0.250522   \n",
       " Slope >30 degree           0.575850           -0.090560   \n",
       " Population Density        -0.587809            0.246668   \n",
       "% BPL Households            0.244880           -0.200473   \n",
       "Infant Mortality Rate       0.033953           -0.217160   \n",
       " MGNREGA                    0.169711           -0.078988   \n",
       "\n",
       "                        Female literacy rate   Slope >30 degree  \\\n",
       "Forest cover                        0.147087           0.575850   \n",
       "Yield variability                  -0.250522          -0.090560   \n",
       " Female literacy rate               1.000000          -0.073014   \n",
       " Slope >30 degree                  -0.073014           1.000000   \n",
       " Population Density                 0.073589          -0.565344   \n",
       "% BPL Households                    0.032576           0.163148   \n",
       "Infant Mortality Rate               0.026215           0.086189   \n",
       " MGNREGA                            0.249888           0.039232   \n",
       "\n",
       "                        Population Density   % BPL Households   \\\n",
       "Forest cover                      -0.587809           0.244880   \n",
       "Yield variability                  0.246668          -0.200473   \n",
       " Female literacy rate              0.073589           0.032576   \n",
       " Slope >30 degree                 -0.565344           0.163148   \n",
       " Population Density                1.000000          -0.133017   \n",
       "% BPL Households                  -0.133017           1.000000   \n",
       "Infant Mortality Rate             -0.027818           0.422283   \n",
       " MGNREGA                          -0.200212          -0.048886   \n",
       "\n",
       "                       Infant Mortality Rate   MGNREGA  \n",
       "Forest cover                        0.033953  0.169711  \n",
       "Yield variability                  -0.217160 -0.078988  \n",
       " Female literacy rate               0.026215  0.249888  \n",
       " Slope >30 degree                   0.086189  0.039232  \n",
       " Population Density                -0.027818 -0.200212  \n",
       "% BPL Households                    0.422283 -0.048886  \n",
       "Infant Mortality Rate               1.000000 -0.355977  \n",
       " MGNREGA                           -0.355977  1.000000  "
      ]
     },
     "execution_count": 42,
     "metadata": {},
     "output_type": "execute_result"
    }
   ],
   "source": [
    "df.corr()"
   ]
  },
  {
   "cell_type": "code",
   "execution_count": 43,
   "id": "749936f3",
   "metadata": {},
   "outputs": [
    {
     "data": {
      "text/plain": [
       "[<matplotlib.lines.Line2D at 0x186e4ad6940>,\n",
       " <matplotlib.lines.Line2D at 0x186e4ad68e0>,\n",
       " <matplotlib.lines.Line2D at 0x186e4ad6a90>,\n",
       " <matplotlib.lines.Line2D at 0x186e4ad6bb0>,\n",
       " <matplotlib.lines.Line2D at 0x186e4ad6cd0>,\n",
       " <matplotlib.lines.Line2D at 0x186e4ad6df0>,\n",
       " <matplotlib.lines.Line2D at 0x186e4ad6f10>,\n",
       " <matplotlib.lines.Line2D at 0x186e4ac7070>]"
      ]
     },
     "execution_count": 43,
     "metadata": {},
     "output_type": "execute_result"
    },
    {
     "data": {
      "image/png": "[encoded data removed]",
      "text/plain": [
       "<Figure size 1080x360 with 1 Axes>"
      ]
     },
     "metadata": {
      "needs_background": "light"
     },
     "output_type": "display_data"
    }
   ],
   "source": [
    "plt.figure(figsize=(15,5))\n",
    "plt.plot(df.corr())"
   ]
  },
  {
   "cell_type": "code",
   "execution_count": 53,
   "id": "63b5ec09",
   "metadata": {},
   "outputs": [
    {
     "data": {
      "text/plain": [
       "<AxesSubplot:>"
      ]
     },
     "execution_count": 53,
     "metadata": {},
     "output_type": "execute_result"
    },
    {
     "data": {
      "image/png": "[encoded data removed]",
      "text/plain": [
       "<Figure size 432x288 with 2 Axes>"
      ]
     },
     "metadata": {
      "needs_background": "light"
     },
     "output_type": "display_data"
    }
   ],
   "source": [
    "sns.heatmap(df.corr())"
   ]
  },
  {
   "cell_type": "markdown",
   "id": "dd0a1206",
   "metadata": {},
   "source": [
    "# frequency table of Q_1"
   ]
  },
  {
   "cell_type": "code",
   "execution_count": 44,
   "id": "dc277e6b",
   "metadata": {},
   "outputs": [],
   "source": [
    "zero_ten=[]\n",
    "ten_twenty=[]\n",
    "twenty_thirty=[]\n",
    "thirty_forty=[]\n",
    "forty_fifty=[]\n",
    "fifty_sixty=[]\n",
    "sixty_seventy=[]\n",
    "seventy_eighty=[]\n",
    "eighty_ninety=[]\n",
    "ninety_hundred=[]\n",
    "for i in df[' Female literacy rate']:\n",
    "    if 0<=int(i)<10:\n",
    "        zero_ten.append(i)\n",
    "    elif 10<=int(i)<20:\n",
    "        ten_twenty.append(i)\n",
    "    elif 20<=int(i)<30:\n",
    "        twenty_thirty.append(i)\n",
    "    elif 30<=int(i)<40:\n",
    "        thirty_forty.append(i)\n",
    "    elif 40<=int(i)<50:\n",
    "        forty_fifty.append(i)\n",
    "    elif 50<=int(i)<60:\n",
    "        fifty_sixty.append(i)\n",
    "    elif 60<=int(i)<70:\n",
    "        sixty_seventy.append(i)\n",
    "    elif 70<=int(i)<80:\n",
    "        seventy_eighty.append(i)\n",
    "    elif 80<=int(i)<90:\n",
    "        eighty_ninety.append(i)\n",
    "    elif 90<=int(i)<=100:\n",
    "        ninety_hundred.append(i)\n",
    "        \n",
    "\n"
   ]
  },
  {
   "cell_type": "code",
   "execution_count": 45,
   "id": "b7659c1d",
   "metadata": {},
   "outputs": [],
   "source": [
    "zero_ten_1=[]\n",
    "ten_twenty_1=[]\n",
    "twenty_thirty_1=[]\n",
    "thirty_forty_1=[]\n",
    "forty_fifty_1=[]\n",
    "fifty_sixty_1=[]\n",
    "sixty_seventy_1=[]\n",
    "seventy_eighty_1=[]\n",
    "eighty_ninety_1=[]\n",
    "ninety_hundred_1=[]\n",
    "for i in df[' MGNREGA']:\n",
    "    if 0<=int(i)<10:\n",
    "        zero_ten_1.append(i)\n",
    "    elif 10<=int(i)<20:\n",
    "        ten_twenty_1.append(i)\n",
    "    elif 20<=int(i)<30:\n",
    "        twenty_thirty_1.append(i)\n",
    "    elif 30<=int(i)<40:\n",
    "        thirty_forty_1.append(i)\n",
    "    elif 40<=int(i)<50:\n",
    "        forty_fifty_1.append(i)\n",
    "    elif 50<=int(i)<60:\n",
    "        fifty_sixty_1.append(i)\n",
    "    elif 60<=int(i)<70:\n",
    "        sixty_seventy_1.append(i)\n",
    "    elif 70<=int(i)<80:\n",
    "        seventy_eighty_1.append(i)\n",
    "    elif 80<=int(i)<90:\n",
    "        eighty_ninety_1.append(i)\n",
    "    elif 90<=int(i)<=100:\n",
    "        ninety_hundred_1.append(i)\n",
    "    \n",
    "        \n",
    "\n"
   ]
  },
  {
   "cell_type": "code",
   "execution_count": 46,
   "id": "acd3442f",
   "metadata": {},
   "outputs": [],
   "source": [
    "zero_ten_2=[]\n",
    "ten_twenty_2=[]\n",
    "twenty_thirty_2=[]\n",
    "thirty_forty_2=[]\n",
    "forty_fifty_2=[]\n",
    "fifty_sixty_2=[]\n",
    "sixty_seventy_2=[]\n",
    "seventy_eighty_2=[]\n",
    "eighty_ninety_2=[]\n",
    "ninety_hundred_2=[]\n",
    "for i in df['% BPL Households ']:\n",
    "    if 0<=int(i)<10:\n",
    "        zero_ten_2.append(i)\n",
    "    elif 10<=int(i)<20:\n",
    "        ten_twenty_2.append(i)\n",
    "    elif 20<=int(i)<30:\n",
    "        twenty_thirty_2.append(i)\n",
    "    elif 30<=int(i)<40:\n",
    "        thirty_forty_2.append(i)\n",
    "    elif 40<=int(i)<50:\n",
    "        forty_fifty_2.append(i)\n",
    "    elif 50<=int(i)<60:\n",
    "        fifty_sixty_2.append(i)\n",
    "    elif 60<=int(i)<70:\n",
    "        sixty_seventy_2.append(i)\n",
    "    elif 70<=int(i)<80:\n",
    "        seventy_eighty_2.append(i)\n",
    "    elif 80<=int(i)<90:\n",
    "        eighty_ninety_2.append(i)\n",
    "    elif 90<=int(i)<=100:\n",
    "        ninety_hundred_2.append(i)\n",
    "    \n",
    "        \n",
    "\n"
   ]
  },
  {
   "cell_type": "code",
   "execution_count": 47,
   "id": "5132afd2",
   "metadata": {},
   "outputs": [],
   "source": [
    "zero_ten_3=[]\n",
    "ten_twenty_3=[]\n",
    "twenty_thirty_3=[]\n",
    "thirty_forty_3=[]\n",
    "forty_fifty_3=[]\n",
    "fifty_sixty_3=[]\n",
    "sixty_seventy_3=[]\n",
    "seventy_eighty_3=[]\n",
    "eighty_ninety_3=[]\n",
    "ninety_hundred_3=[]\n",
    "for i in df['Infant Mortality Rate']:\n",
    "    if 0<=int(i)<10:\n",
    "        zero_ten_3.append(i)\n",
    "    elif 10<=int(i)<20:\n",
    "        ten_twenty_3.append(i)\n",
    "    elif 20<=int(i)<30:\n",
    "        twenty_thirty_3.append(i)\n",
    "    elif 30<=int(i)<40:\n",
    "        thirty_forty_3.append(i)\n",
    "    elif 40<=int(i)<50:\n",
    "        forty_fifty_3.append(i)\n",
    "    elif 50<=int(i)<60:\n",
    "        fifty_sixty_3.append(i)\n",
    "    elif 60<=int(i)<70:\n",
    "        sixty_seventy_3.append(i)\n",
    "    elif 70<=int(i)<80:\n",
    "        seventy_eighty_3.append(i)\n",
    "    elif 80<=int(i)<90:\n",
    "        eighty_ninety_3.append(i)\n",
    "    elif 90<=int(i)<=100:\n",
    "        ninety_hundred_2.append(i)\n",
    "    \n",
    "        \n",
    "\n"
   ]
  },
  {
   "cell_type": "code",
   "execution_count": 48,
   "id": "066b1938",
   "metadata": {},
   "outputs": [],
   "source": [
    "a=['0-10','10-20','20-30','30-40','40-50','50-60','60-70','70-80','80-90','90-100']\n",
    "b=[len(zero_ten),len(ten_twenty),len(twenty_thirty),len(thirty_forty),len(forty_fifty),len(fifty_sixty),len(sixty_seventy),len(seventy_eighty),len(eighty_ninety),len(ninety_hundred)]\n",
    "d=[len(zero_ten_1),len(ten_twenty_1),len(twenty_thirty_1),len(thirty_forty_1),len(forty_fifty_1),len(fifty_sixty_1),len(sixty_seventy_1),len(seventy_eighty_1),len(eighty_ninety_1),len(ninety_hundred_1)]\n",
    "e=[len(zero_ten_2),len(ten_twenty_2),len(twenty_thirty_2),len(thirty_forty_2),len(forty_fifty_2),len(fifty_sixty_2),len(sixty_seventy_2),len(seventy_eighty_2),len(eighty_ninety_2),len(ninety_hundred_2)]\n",
    "f=[len(zero_ten_3),len(ten_twenty_3),len(twenty_thirty_3),len(thirty_forty_3),len(forty_fifty_3),len(fifty_sixty_3),len(sixty_seventy_3),len(seventy_eighty_3),len(eighty_ninety_3),len(ninety_hundred_3)]"
   ]
  },
  {
   "cell_type": "code",
   "execution_count": 49,
   "id": "4d7f0c5c",
   "metadata": {},
   "outputs": [],
   "source": [
    "new_df=pd.DataFrame(np.column_stack([a,b,d,e,f]),columns=['Range','Frequency(female litrecay rate)','Frequency(MGNREGA)','Frequency(% BPL HOUSEHOLD)','Frequency(infant mortality rate)'])"
   ]
  },
  {
   "cell_type": "code",
   "execution_count": 50,
   "id": "a65e2772",
   "metadata": {},
   "outputs": [
    {
     "data": {
      "text/html": [
       "<div>\n",
       "<style scoped>\n",
       "    .dataframe tbody tr th:only-of-type {\n",
       "        vertical-align: middle;\n",
       "    }\n",
       "\n",
       "    .dataframe tbody tr th {\n",
       "        vertical-align: top;\n",
       "    }\n",
       "\n",
       "    .dataframe thead th {\n",
       "        text-align: right;\n",
       "    }\n",
       "</style>\n",
       "<table border=\"1\" class=\"dataframe\">\n",
       "  <thead>\n",
       "    <tr style=\"text-align: right;\">\n",
       "      <th></th>\n",
       "      <th>Range</th>\n",
       "      <th>Frequency(female litrecay rate)</th>\n",
       "      <th>Frequency(MGNREGA)</th>\n",
       "      <th>Frequency(% BPL HOUSEHOLD)</th>\n",
       "      <th>Frequency(infant mortality rate)</th>\n",
       "    </tr>\n",
       "  </thead>\n",
       "  <tbody>\n",
       "    <tr>\n",
       "      <th>0</th>\n",
       "      <td>0-10</td>\n",
       "      <td>0</td>\n",
       "      <td>4</td>\n",
       "      <td>25</td>\n",
       "      <td>13</td>\n",
       "    </tr>\n",
       "    <tr>\n",
       "      <th>1</th>\n",
       "      <td>10-20</td>\n",
       "      <td>0</td>\n",
       "      <td>20</td>\n",
       "      <td>29</td>\n",
       "      <td>21</td>\n",
       "    </tr>\n",
       "    <tr>\n",
       "      <th>2</th>\n",
       "      <td>20-30</td>\n",
       "      <td>2</td>\n",
       "      <td>24</td>\n",
       "      <td>18</td>\n",
       "      <td>20</td>\n",
       "    </tr>\n",
       "    <tr>\n",
       "      <th>3</th>\n",
       "      <td>30-40</td>\n",
       "      <td>4</td>\n",
       "      <td>25</td>\n",
       "      <td>23</td>\n",
       "      <td>7</td>\n",
       "    </tr>\n",
       "    <tr>\n",
       "      <th>4</th>\n",
       "      <td>40-50</td>\n",
       "      <td>14</td>\n",
       "      <td>15</td>\n",
       "      <td>15</td>\n",
       "      <td>24</td>\n",
       "    </tr>\n",
       "    <tr>\n",
       "      <th>5</th>\n",
       "      <td>50-60</td>\n",
       "      <td>25</td>\n",
       "      <td>18</td>\n",
       "      <td>3</td>\n",
       "      <td>22</td>\n",
       "    </tr>\n",
       "    <tr>\n",
       "      <th>6</th>\n",
       "      <td>60-70</td>\n",
       "      <td>44</td>\n",
       "      <td>18</td>\n",
       "      <td>21</td>\n",
       "      <td>14</td>\n",
       "    </tr>\n",
       "    <tr>\n",
       "      <th>7</th>\n",
       "      <td>70-80</td>\n",
       "      <td>37</td>\n",
       "      <td>3</td>\n",
       "      <td>2</td>\n",
       "      <td>7</td>\n",
       "    </tr>\n",
       "    <tr>\n",
       "      <th>8</th>\n",
       "      <td>80-90</td>\n",
       "      <td>10</td>\n",
       "      <td>5</td>\n",
       "      <td>0</td>\n",
       "      <td>2</td>\n",
       "    </tr>\n",
       "    <tr>\n",
       "      <th>9</th>\n",
       "      <td>90-100</td>\n",
       "      <td>0</td>\n",
       "      <td>4</td>\n",
       "      <td>3</td>\n",
       "      <td>0</td>\n",
       "    </tr>\n",
       "  </tbody>\n",
       "</table>\n",
       "</div>"
      ],
      "text/plain": [
       "    Range Frequency(female litrecay rate) Frequency(MGNREGA)  \\\n",
       "0    0-10                               0                  4   \n",
       "1   10-20                               0                 20   \n",
       "2   20-30                               2                 24   \n",
       "3   30-40                               4                 25   \n",
       "4   40-50                              14                 15   \n",
       "5   50-60                              25                 18   \n",
       "6   60-70                              44                 18   \n",
       "7   70-80                              37                  3   \n",
       "8   80-90                              10                  5   \n",
       "9  90-100                               0                  4   \n",
       "\n",
       "  Frequency(% BPL HOUSEHOLD) Frequency(infant mortality rate)  \n",
       "0                         25                               13  \n",
       "1                         29                               21  \n",
       "2                         18                               20  \n",
       "3                         23                                7  \n",
       "4                         15                               24  \n",
       "5                          3                               22  \n",
       "6                         21                               14  \n",
       "7                          2                                7  \n",
       "8                          0                                2  \n",
       "9                          3                                0  "
      ]
     },
     "execution_count": 50,
     "metadata": {},
     "output_type": "execute_result"
    }
   ],
   "source": [
    "new_df"
   ]
  },
  {
   "cell_type": "code",
   "execution_count": null,
   "id": "a4e55b40",
   "metadata": {},
   "outputs": [],
   "source": []
  },
  {
   "cell_type": "code",
   "execution_count": null,
   "id": "50274745",
   "metadata": {},
   "outputs": [],
   "source": []
  }
 ],
 "metadata": {
  "kernelspec": {
   "display_name": "Python 3 (ipykernel)",
   "language": "python",
   "name": "python3"
  },
  "language_info": {
   "codemirror_mode": {
    "name": "ipython",
    "version": 3
   },
   "file_extension": ".py",
   "mimetype": "text/x-python",
   "name": "python",
   "nbconvert_exporter": "python",
   "pygments_lexer": "ipython3",
   "version": "3.9.12"
  }
 },
 "nbformat": 4,
 "nbformat_minor": 5
}
